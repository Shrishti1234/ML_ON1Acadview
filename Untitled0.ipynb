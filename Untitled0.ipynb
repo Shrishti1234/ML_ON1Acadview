{
  "nbformat": 4,
  "nbformat_minor": 0,
  "metadata": {
    "colab": {
      "name": "Untitled0.ipynb",
      "version": "0.3.2",
      "provenance": [],
      "collapsed_sections": []
    },
    "kernelspec": {
      "name": "python2",
      "display_name": "Python 2"
    },
    "accelerator": "GPU"
  },
  "cells": [
    {
      "cell_type": "markdown",
      "metadata": {
        "id": "view-in-github",
        "colab_type": "text"
      },
      "source": [
        "[View in Colaboratory](https://colab.research.google.com/github/Shrishti1234/ML_ON1Acadview/blob/master/Untitled0.ipynb)"
      ]
    },
    {
      "metadata": {
        "id": "SqQK8fqZWYxj",
        "colab_type": "code",
        "colab": {
          "base_uri": "https://localhost:8080/",
          "height": 34
        },
        "outputId": "4f070ba2-b207-4f31-bda2-43af09ab8c09"
      },
      "cell_type": "code",
      "source": [
        "x=[1,2,3,4,5,6,7,8,9,10,11,12,13,14,15,16]\n",
        "x[7:12]\n"
      ],
      "execution_count": 5,
      "outputs": [
        {
          "output_type": "execute_result",
          "data": {
            "text/plain": [
              "[8, 9, 10, 11, 12]"
            ]
          },
          "metadata": {
            "tags": []
          },
          "execution_count": 5
        }
      ]
    },
    {
      "metadata": {
        "id": "7Un6ehERE-SO",
        "colab_type": "text"
      },
      "cell_type": "markdown",
      "source": [
        "**Ques 1**"
      ]
    },
    {
      "metadata": {
        "id": "UqD34XP_Wmgb",
        "colab_type": "code",
        "colab": {
          "base_uri": "https://localhost:8080/",
          "height": 34
        },
        "outputId": "d04b8b24-bd7a-40ca-b119-d5dbfab0275c"
      },
      "cell_type": "code",
      "source": [
        "x=[1,2,3,4,5,6,7,8,9,10,11,12,13,14,15,16]\n",
        "x[7:12]"
      ],
      "execution_count": 3,
      "outputs": [
        {
          "output_type": "execute_result",
          "data": {
            "text/plain": [
              "[8, 9, 10, 11, 12]"
            ]
          },
          "metadata": {
            "tags": []
          },
          "execution_count": 3
        }
      ]
    },
    {
      "metadata": {
        "id": "H89OTCYRFslT",
        "colab_type": "text"
      },
      "cell_type": "markdown",
      "source": [
        "**Ques 1**"
      ]
    },
    {
      "metadata": {
        "id": "feji_T4AXjIT",
        "colab_type": "code",
        "colab": {
          "base_uri": "https://localhost:8080/",
          "height": 34
        },
        "outputId": "415278c0-29dc-46a5-e10a-eb3a95549f7a"
      },
      "cell_type": "code",
      "source": [
        "x=[1,2,3,4,5,6,7,8,9,10,11,12,13,14,15,16]\n",
        "x[-9:-4]"
      ],
      "execution_count": 5,
      "outputs": [
        {
          "output_type": "execute_result",
          "data": {
            "text/plain": [
              "[8, 9, 10, 11, 12]"
            ]
          },
          "metadata": {
            "tags": []
          },
          "execution_count": 5
        }
      ]
    },
    {
      "metadata": {
        "id": "PUsdY_JZGZV7",
        "colab_type": "text"
      },
      "cell_type": "markdown",
      "source": [
        "**Ques 2**"
      ]
    },
    {
      "metadata": {
        "id": "odvpST8rGKod",
        "colab_type": "code",
        "colab": {
          "base_uri": "https://localhost:8080/",
          "height": 34
        },
        "outputId": "9266a3b8-2982-457a-bdc5-c3da14382458"
      },
      "cell_type": "code",
      "source": [
        "x=[1,2,3,4,5,6,7,8,9,10,11,12,13,14,15,16]\n",
        "x[1:16:2]"
      ],
      "execution_count": 4,
      "outputs": [
        {
          "output_type": "execute_result",
          "data": {
            "text/plain": [
              "[2, 4, 6, 8, 10, 12, 14, 16]"
            ]
          },
          "metadata": {
            "tags": []
          },
          "execution_count": 4
        }
      ]
    },
    {
      "metadata": {
        "id": "V3lcofp9F7DM",
        "colab_type": "text"
      },
      "cell_type": "markdown",
      "source": [
        "**Ques 3**"
      ]
    },
    {
      "metadata": {
        "id": "tp0BFqF8X86N",
        "colab_type": "code",
        "colab": {
          "base_uri": "https://localhost:8080/",
          "height": 34
        },
        "outputId": "85c68ab7-0b30-431c-f650-9b17e68cbb7d"
      },
      "cell_type": "code",
      "source": [
        "x=[1,2,3,4,5,6,7,8,9,10,11,12,13,14,15,16]\n",
        "x[0:16:4]"
      ],
      "execution_count": 11,
      "outputs": [
        {
          "output_type": "execute_result",
          "data": {
            "text/plain": [
              "[1, 5, 9, 13]"
            ]
          },
          "metadata": {
            "tags": []
          },
          "execution_count": 11
        }
      ]
    },
    {
      "metadata": {
        "id": "QPIFdIgwYuYm",
        "colab_type": "code",
        "colab": {}
      },
      "cell_type": "code",
      "source": [
        ""
      ],
      "execution_count": 0,
      "outputs": []
    }
  ]
}